{
 "cells": [
  {
   "cell_type": "code",
   "execution_count": 2,
   "id": "ccb0294a",
   "metadata": {},
   "outputs": [],
   "source": [
    "l = []\n",
    "with open('train.txt', 'r')as f:\n",
    "    for line in f:\n",
    "        l.append(line)\n",
    "        "
   ]
  },
  {
   "cell_type": "code",
   "execution_count": 4,
   "id": "a7bcfb12",
   "metadata": {},
   "outputs": [
    {
     "data": {
      "text/plain": [
       "'A person on a horse jumps over a broken down airplane .'"
      ]
     },
     "execution_count": 4,
     "metadata": {},
     "output_type": "execute_result"
    }
   ],
   "source": [
    "l[0].strip()"
   ]
  },
  {
   "cell_type": "code",
   "execution_count": 5,
   "id": "ee7ebca1",
   "metadata": {},
   "outputs": [
    {
     "name": "stdout",
     "output_type": "stream",
     "text": [
      "9.358439664906873\n"
     ]
    }
   ],
   "source": [
    "length = 0\n",
    "for s in l:\n",
    "    ll = s.strip().split()\n",
    "    length += len(ll)\n",
    "print(length / len(l))"
   ]
  },
  {
   "cell_type": "code",
   "execution_count": 2,
   "id": "37ed3cfc",
   "metadata": {},
   "outputs": [
    {
     "name": "stdout",
     "output_type": "stream",
     "text": [
      "11.126404427270316\n"
     ]
    }
   ],
   "source": [
    "l2 = []\n",
    "with open('./QQP/qqp_texts.txt', 'r')as f:\n",
    "    for line in f:\n",
    "        l2.append(line)\n",
    "length = 0\n",
    "for s in l2:\n",
    "    ll = s.strip().split()\n",
    "    length += len(ll)\n",
    "print(length / len(l2))        "
   ]
  },
  {
   "cell_type": "code",
   "execution_count": null,
   "id": "bdb5b3d9",
   "metadata": {},
   "outputs": [],
   "source": []
  }
 ],
 "metadata": {
  "kernelspec": {
   "display_name": "Python 3",
   "language": "python",
   "name": "python3"
  },
  "language_info": {
   "codemirror_mode": {
    "name": "ipython",
    "version": 3
   },
   "file_extension": ".py",
   "mimetype": "text/x-python",
   "name": "python",
   "nbconvert_exporter": "python",
   "pygments_lexer": "ipython3",
   "version": "3.7.11"
  }
 },
 "nbformat": 4,
 "nbformat_minor": 5
}
