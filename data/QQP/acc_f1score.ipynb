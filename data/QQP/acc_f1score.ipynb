{
 "cells": [
  {
   "cell_type": "code",
   "execution_count": 3,
   "id": "d6d3e642",
   "metadata": {},
   "outputs": [],
   "source": [
    "QQP_dev = './test.tsv'\n",
    "t_texts = []\n",
    "label = []\n",
    "with open(QQP_dev, 'r', encoding='utf-8') as f:\n",
    "    lcount = 0\n",
    "    for line in f:\n",
    "        if lcount > 0:\n",
    "            lcount += 1\n",
    "            line = line.strip().split(\"\\t\")\n",
    "#             all_texts.append(line[3])\n",
    "#             all_texts.append(line[4])\n",
    "            try:\n",
    "                t_texts.append(line[3])\n",
    "                t_texts.append(line[4])\n",
    "                label.append(line[5])\n",
    "            except:\n",
    "                pass\n",
    "        else:\n",
    "            lcount += 1\n",
    "            continue"
   ]
  },
  {
   "cell_type": "code",
   "execution_count": 4,
   "id": "3ad08e29",
   "metadata": {},
   "outputs": [
    {
     "data": {
      "text/plain": [
       "40430"
      ]
     },
     "execution_count": 4,
     "metadata": {},
     "output_type": "execute_result"
    }
   ],
   "source": [
    "len(label) # 总测试样本数"
   ]
  },
  {
   "cell_type": "code",
   "execution_count": 7,
   "id": "816e7e90",
   "metadata": {},
   "outputs": [
    {
     "data": {
      "text/plain": [
       "[0, 0, 1, 0, 0]"
      ]
     },
     "execution_count": 7,
     "metadata": {},
     "output_type": "execute_result"
    }
   ],
   "source": [
    "label = [int(i) for i in label]\n",
    "label[:5]"
   ]
  },
  {
   "cell_type": "code",
   "execution_count": 8,
   "id": "635b9d4d",
   "metadata": {},
   "outputs": [
    {
     "data": {
      "text/plain": [
       "14885"
      ]
     },
     "execution_count": 8,
     "metadata": {},
     "output_type": "execute_result"
    }
   ],
   "source": [
    "sum(label) # is_duplicate 的样本数 "
   ]
  },
  {
   "cell_type": "code",
   "execution_count": 9,
   "id": "3e9f7c1d",
   "metadata": {},
   "outputs": [
    {
     "name": "stdout",
     "output_type": "stream",
     "text": [
      "25545\n",
      "14885\n"
     ]
    }
   ],
   "source": [
    "non_duplicate = label.count(0)\n",
    "print(non_duplicate)\n",
    "duplicate = label.count(1)\n",
    "print(duplicate)"
   ]
  },
  {
   "cell_type": "code",
   "execution_count": 32,
   "id": "73c9aaa7",
   "metadata": {},
   "outputs": [
    {
     "data": {
      "text/plain": [
       "0"
      ]
     },
     "execution_count": 32,
     "metadata": {},
     "output_type": "execute_result"
    }
   ],
   "source": [
    "import numpy as np\n",
    "len(np.where([0, 0, 1, 0]==[1, 1, 1, 0])[0])"
   ]
  },
  {
   "cell_type": "code",
   "execution_count": 35,
   "id": "9302ef78",
   "metadata": {},
   "outputs": [
    {
     "data": {
      "text/plain": [
       "(array([], dtype=int64),)"
      ]
     },
     "execution_count": 35,
     "metadata": {},
     "output_type": "execute_result"
    }
   ],
   "source": [
    "np.where([1,0,1,0,0] == [1,0,0,0,1])"
   ]
  },
  {
   "cell_type": "code",
   "execution_count": 38,
   "id": "22ab2a51",
   "metadata": {},
   "outputs": [
    {
     "data": {
      "text/plain": [
       "(array([], dtype=int64),)"
      ]
     },
     "execution_count": 38,
     "metadata": {},
     "output_type": "execute_result"
    }
   ],
   "source": [
    "np.where([1,0,1,0,0] == [1,1,1,1,1])"
   ]
  },
  {
   "cell_type": "code",
   "execution_count": 54,
   "id": "87133b3d",
   "metadata": {},
   "outputs": [
    {
     "data": {
      "text/plain": [
       "array([0, 1, 3, 4])"
      ]
     },
     "execution_count": 54,
     "metadata": {},
     "output_type": "execute_result"
    }
   ],
   "source": [
    "a = np.array([1,1,1,0,1])\n",
    "b = np.array([1,1,0,0,1])\n",
    "t = np.where(a==b)[0]\n",
    "t"
   ]
  },
  {
   "cell_type": "code",
   "execution_count": 55,
   "id": "4a277036",
   "metadata": {},
   "outputs": [
    {
     "data": {
      "text/plain": [
       "array([0, 1, 2, 4])"
      ]
     },
     "execution_count": 55,
     "metadata": {},
     "output_type": "execute_result"
    }
   ],
   "source": [
    "c = np.array([1,1,1,1,1])\n",
    "p = np.where(a==c)[0]\n",
    "p"
   ]
  },
  {
   "cell_type": "code",
   "execution_count": 56,
   "id": "4ce65bb0",
   "metadata": {},
   "outputs": [
    {
     "data": {
      "text/plain": [
       "array([0, 1, 4])"
      ]
     },
     "execution_count": 56,
     "metadata": {},
     "output_type": "execute_result"
    }
   ],
   "source": [
    "np.intersect1d(t, p)"
   ]
  },
  {
   "cell_type": "code",
   "execution_count": null,
   "id": "d77f1303",
   "metadata": {},
   "outputs": [],
   "source": []
  }
 ],
 "metadata": {
  "kernelspec": {
   "display_name": "Python 3",
   "language": "python",
   "name": "python3"
  },
  "language_info": {
   "codemirror_mode": {
    "name": "ipython",
    "version": 3
   },
   "file_extension": ".py",
   "mimetype": "text/x-python",
   "name": "python",
   "nbconvert_exporter": "python",
   "pygments_lexer": "ipython3",
   "version": "3.7.11"
  }
 },
 "nbformat": 4,
 "nbformat_minor": 5
}
